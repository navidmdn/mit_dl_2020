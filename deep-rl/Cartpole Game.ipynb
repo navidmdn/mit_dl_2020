{
 "cells": [
  {
   "cell_type": "code",
   "execution_count": 1,
   "metadata": {},
   "outputs": [],
   "source": [
    "# RL MODEL: POLICY GRADIENT"
   ]
  },
  {
   "cell_type": "code",
   "execution_count": 2,
   "metadata": {},
   "outputs": [],
   "source": [
    "import tensorflow as tf\n",
    "\n",
    "\n",
    "import gym\n",
    "import numpy as np\n",
    "import matplotlib.pyplot as plt\n",
    "from IPython import display as ipythondisplay\n",
    "import time"
   ]
  },
  {
   "cell_type": "code",
   "execution_count": 3,
   "metadata": {},
   "outputs": [
    {
     "data": {
      "text/plain": [
       "[1]"
      ]
     },
     "execution_count": 3,
     "metadata": {},
     "output_type": "execute_result"
    }
   ],
   "source": [
    "env = gym.make('CartPole-v0')\n",
    "env.seed(1)\n"
   ]
  },
  {
   "cell_type": "code",
   "execution_count": 4,
   "metadata": {},
   "outputs": [
    {
     "name": "stdout",
     "output_type": "stream",
     "text": [
      "Box(4,)\n",
      "Discrete(2)\n",
      "Help on class CartPoleEnv in module gym.envs.classic_control.cartpole:\n",
      "\n",
      "class CartPoleEnv(gym.core.Env)\n",
      " |  Description:\n",
      " |      A pole is attached by an un-actuated joint to a cart, which moves along a frictionless track. The pendulum starts upright, and the goal is to prevent it from falling over by increasing and reducing the cart's velocity.\n",
      " |  \n",
      " |  Source:\n",
      " |      This environment corresponds to the version of the cart-pole problem described by Barto, Sutton, and Anderson\n",
      " |  \n",
      " |  Observation: \n",
      " |      Type: Box(4)\n",
      " |      Num     Observation                 Min         Max\n",
      " |      0       Cart Position             -4.8            4.8\n",
      " |      1       Cart Velocity             -Inf            Inf\n",
      " |      2       Pole Angle                 -24 deg        24 deg\n",
      " |      3       Pole Velocity At Tip      -Inf            Inf\n",
      " |      \n",
      " |  Actions:\n",
      " |      Type: Discrete(2)\n",
      " |      Num     Action\n",
      " |      0       Push cart to the left\n",
      " |      1       Push cart to the right\n",
      " |      \n",
      " |      Note: The amount the velocity that is reduced or increased is not fixed; it depends on the angle the pole is pointing. This is because the center of gravity of the pole increases the amount of energy needed to move the cart underneath it\n",
      " |  \n",
      " |  Reward:\n",
      " |      Reward is 1 for every step taken, including the termination step\n",
      " |  \n",
      " |  Starting State:\n",
      " |      All observations are assigned a uniform random value in [-0.05..0.05]\n",
      " |  \n",
      " |  Episode Termination:\n",
      " |      Pole Angle is more than 12 degrees\n",
      " |      Cart Position is more than 2.4 (center of the cart reaches the edge of the display)\n",
      " |      Episode length is greater than 200\n",
      " |      Solved Requirements\n",
      " |      Considered solved when the average reward is greater than or equal to 195.0 over 100 consecutive trials.\n",
      " |  \n",
      " |  Method resolution order:\n",
      " |      CartPoleEnv\n",
      " |      gym.core.Env\n",
      " |      builtins.object\n",
      " |  \n",
      " |  Methods defined here:\n",
      " |  \n",
      " |  __init__(self)\n",
      " |      Initialize self.  See help(type(self)) for accurate signature.\n",
      " |  \n",
      " |  close(self)\n",
      " |      Override close in your subclass to perform any necessary cleanup.\n",
      " |      \n",
      " |      Environments will automatically close() themselves when\n",
      " |      garbage collected or when the program exits.\n",
      " |  \n",
      " |  render(self, mode='human')\n",
      " |      Renders the environment.\n",
      " |      \n",
      " |      The set of supported modes varies per environment. (And some\n",
      " |      environments do not support rendering at all.) By convention,\n",
      " |      if mode is:\n",
      " |      \n",
      " |      - human: render to the current display or terminal and\n",
      " |        return nothing. Usually for human consumption.\n",
      " |      - rgb_array: Return an numpy.ndarray with shape (x, y, 3),\n",
      " |        representing RGB values for an x-by-y pixel image, suitable\n",
      " |        for turning into a video.\n",
      " |      - ansi: Return a string (str) or StringIO.StringIO containing a\n",
      " |        terminal-style text representation. The text can include newlines\n",
      " |        and ANSI escape sequences (e.g. for colors).\n",
      " |      \n",
      " |      Note:\n",
      " |          Make sure that your class's metadata 'render.modes' key includes\n",
      " |            the list of supported modes. It's recommended to call super()\n",
      " |            in implementations to use the functionality of this method.\n",
      " |      \n",
      " |      Args:\n",
      " |          mode (str): the mode to render with\n",
      " |      \n",
      " |      Example:\n",
      " |      \n",
      " |      class MyEnv(Env):\n",
      " |          metadata = {'render.modes': ['human', 'rgb_array']}\n",
      " |      \n",
      " |          def render(self, mode='human'):\n",
      " |              if mode == 'rgb_array':\n",
      " |                  return np.array(...) # return RGB frame suitable for video\n",
      " |              elif mode == 'human':\n",
      " |                  ... # pop up a window and render\n",
      " |              else:\n",
      " |                  super(MyEnv, self).render(mode=mode) # just raise an exception\n",
      " |  \n",
      " |  reset(self)\n",
      " |      Resets the state of the environment and returns an initial observation.\n",
      " |      \n",
      " |      Returns:\n",
      " |          observation (object): the initial observation.\n",
      " |  \n",
      " |  seed(self, seed=None)\n",
      " |      Sets the seed for this env's random number generator(s).\n",
      " |      \n",
      " |      Note:\n",
      " |          Some environments use multiple pseudorandom number generators.\n",
      " |          We want to capture all such seeds used in order to ensure that\n",
      " |          there aren't accidental correlations between multiple generators.\n",
      " |      \n",
      " |      Returns:\n",
      " |          list<bigint>: Returns the list of seeds used in this env's random\n",
      " |            number generators. The first value in the list should be the\n",
      " |            \"main\" seed, or the value which a reproducer should pass to\n",
      " |            'seed'. Often, the main seed equals the provided 'seed', but\n",
      " |            this won't be true if seed=None, for example.\n",
      " |  \n",
      " |  step(self, action)\n",
      " |      Run one timestep of the environment's dynamics. When end of\n",
      " |      episode is reached, you are responsible for calling `reset()`\n",
      " |      to reset this environment's state.\n",
      " |      \n",
      " |      Accepts an action and returns a tuple (observation, reward, done, info).\n",
      " |      \n",
      " |      Args:\n",
      " |          action (object): an action provided by the agent\n",
      " |      \n",
      " |      Returns:\n",
      " |          observation (object): agent's observation of the current environment\n",
      " |          reward (float) : amount of reward returned after previous action\n",
      " |          done (bool): whether the episode has ended, in which case further step() calls will return undefined results\n",
      " |          info (dict): contains auxiliary diagnostic information (helpful for debugging, and sometimes learning)\n",
      " |  \n",
      " |  ----------------------------------------------------------------------\n",
      " |  Data and other attributes defined here:\n",
      " |  \n",
      " |  metadata = {'render.modes': ['human', 'rgb_array'], 'video.frames_per_...\n",
      " |  \n",
      " |  ----------------------------------------------------------------------\n",
      " |  Methods inherited from gym.core.Env:\n",
      " |  \n",
      " |  __enter__(self)\n",
      " |  \n",
      " |  __exit__(self, *args)\n",
      " |  \n",
      " |  __str__(self)\n",
      " |      Return str(self).\n",
      " |  \n",
      " |  ----------------------------------------------------------------------\n",
      " |  Data descriptors inherited from gym.core.Env:\n",
      " |  \n",
      " |  __dict__\n",
      " |      dictionary for instance variables (if defined)\n",
      " |  \n",
      " |  __weakref__\n",
      " |      list of weak references to the object (if defined)\n",
      " |  \n",
      " |  unwrapped\n",
      " |      Completely unwrap this env.\n",
      " |      \n",
      " |      Returns:\n",
      " |          gym.Env: The base non-wrapped gym.Env instance\n",
      " |  \n",
      " |  ----------------------------------------------------------------------\n",
      " |  Data and other attributes inherited from gym.core.Env:\n",
      " |  \n",
      " |  action_space = None\n",
      " |  \n",
      " |  observation_space = None\n",
      " |  \n",
      " |  reward_range = (-inf, inf)\n",
      " |  \n",
      " |  spec = None\n",
      "\n"
     ]
    }
   ],
   "source": [
    "print(env.observation_space)\n",
    "print(env.action_space)\n",
    "\n",
    "help(gym.envs.classic_control.CartPoleEnv)"
   ]
  },
  {
   "cell_type": "code",
   "execution_count": 5,
   "metadata": {},
   "outputs": [],
   "source": [
    "def create_cartpole_model():\n",
    "    model = tf.keras.models.Sequential([\n",
    "        tf.keras.layers.Dense(units=32, activation='relu'),\n",
    "        tf.keras.layers.Dense(units=2, activation=None)\n",
    "    ])\n",
    "    return model\n"
   ]
  },
  {
   "cell_type": "code",
   "execution_count": 6,
   "metadata": {},
   "outputs": [],
   "source": [
    "def choose_action(model, observation):\n",
    "    \n",
    "    observation = observation.reshape([1, -1])\n",
    "    '''TODO: feed the observations through the model to predict the log probabilities of each possible action.'''\n",
    "    logits = model.predict(observation)\n",
    "\n",
    "    # pass the log probabilities through a softmax to compute true probabilities\n",
    "    prob_weights = tf.nn.softmax(logits).numpy()\n",
    "\n",
    "    '''TODO: randomly sample from the prob_weights to pick an action.\n",
    "    Hint: carefully consider the dimensionality of the input probabilities (vector) and the output action (scalar)'''\n",
    "    action = np.random.choice(2, size=1, p=prob_weights.flatten())[0]\n",
    "\n",
    "    return action"
   ]
  },
  {
   "cell_type": "code",
   "execution_count": 7,
   "metadata": {},
   "outputs": [],
   "source": [
    "class Memory:\n",
    "    def __init__(self): \n",
    "        self.clear()\n",
    "\n",
    "    def clear(self): \n",
    "        self.observations = []\n",
    "        self.actions = []\n",
    "        self.rewards = []\n",
    "\n",
    "    def add_to_memory(self, new_observation, new_action, new_reward): \n",
    "        self.observations.append(new_observation)\n",
    "        self.actions.append(new_action)\n",
    "        self.rewards.append(new_reward)\n",
    "\n",
    "memory = Memory()"
   ]
  },
  {
   "cell_type": "code",
   "execution_count": 17,
   "metadata": {},
   "outputs": [],
   "source": [
    "def normalize(x):\n",
    "    x -= np.mean(x)\n",
    "    x /= np.std(x)\n",
    "    return x\n",
    "\n",
    "def discount_rewards(rewards, gamma=0.95):\n",
    "    discounted_rewards = np.zeros_like(rewards)\n",
    "    R = 0\n",
    "    \n",
    "    for i, rew in enumerate(reversed(rewards)):\n",
    "        R = R * gamma + rewards[len(rewards)-i-1]\n",
    "        discounted_rewards[len(rewards)-i-1] = R\n",
    "    \n",
    "    return normalize(discounted_rewards)\n",
    "        \n",
    "        "
   ]
  },
  {
   "cell_type": "code",
   "execution_count": 18,
   "metadata": {},
   "outputs": [],
   "source": [
    "lr = 1e-3\n",
    "optimizer = tf.keras.optimizers.Adam(lr)"
   ]
  },
  {
   "cell_type": "code",
   "execution_count": 19,
   "metadata": {},
   "outputs": [],
   "source": [
    "def compute_loss(logits, actions, rewards):\n",
    "    neg_logprob = tf.nn.sparse_softmax_cross_entropy_with_logits(logits=logits, labels=actions)\n",
    "    loss = tf.reduce_mean(neg_logprob * rewards)\n",
    "    return loss"
   ]
  },
  {
   "cell_type": "code",
   "execution_count": 20,
   "metadata": {},
   "outputs": [],
   "source": [
    "def train_step(model, optimizer, observations, actions, discounted_rewards):\n",
    "    with tf.GradientTape() as tape:\n",
    "        observation = tf.convert_to_tensor(observations, dtype=tf.float32)\n",
    "        logits = model(observation)\n",
    "        loss = compute_loss(logits, actions, discounted_rewards)\n",
    "        \n",
    "    grads = tape.gradient(loss, model.variables)\n",
    "    optimizer.apply_gradients(zip(grads, model.variables))"
   ]
  },
  {
   "cell_type": "code",
   "execution_count": 24,
   "metadata": {},
   "outputs": [
    {
     "data": {
      "text/plain": [
       "[<matplotlib.lines.Line2D at 0x7f97abea4320>]"
      ]
     },
     "execution_count": 24,
     "metadata": {},
     "output_type": "execute_result"
    },
    {
     "data": {
      "image/png": "[encoded data removed]",
      "text/plain": [
       "<Figure size 432x288 with 1 Axes>"
      ]
     },
     "metadata": {
      "needs_background": "light"
     },
     "output_type": "display_data"
    }
   ],
   "source": [
    "import matplotlib.pyplot as plt\n",
    "\n",
    "cartpole_model = create_cartpole_model()\n",
    "total_rewards = []\n",
    "for i in range(100):\n",
    "    observation = env.reset()\n",
    "    if i+1 % 1000 == 0:\n",
    "        print(\"step: {}\".format(i))\n",
    "    while True:\n",
    "        action = choose_action(cartpole_model, observation)\n",
    "        next_observation, reward, done, info = env.step(action)\n",
    "        \n",
    "        memory.add_to_memory(observation, action, reward)\n",
    "        \n",
    "        if done:\n",
    "            total_reward = sum(memory.rewards)\n",
    "            total_rewards.append(total_reward)\n",
    "            \n",
    "            train_step(cartpole_model, optimizer,\n",
    "                      observations=np.vstack(memory.observations),\n",
    "                      actions=np.array(memory.actions),\n",
    "                      discounted_rewards=discount_rewards(memory.rewards))\n",
    "            \n",
    "            memory.clear()\n",
    "            break\n",
    "            \n",
    "        observation = next_observation\n",
    "        \n",
    "plt.plot(total_rewards)"
   ]
  },
  {
   "cell_type": "code",
   "execution_count": 25,
   "metadata": {},
   "outputs": [],
   "source": [
    "#HOW IT WORKS\n",
    "import time\n",
    "import gym\n",
    "env = gym.make('CartPole-v0')\n",
    "obs = env.reset()\n",
    "\n",
    "for _ in range(100):\n",
    "    env.render()\n",
    "    time.sleep(0.1)\n",
    "#     action = choose_action(cartpole_model, obs)\n",
    "    action = env.action_space.\n",
    "    obs, reward, done, _ = env.step(action) # take a random action\n",
    "    if done:\n",
    "        break\n",
    "env.close()"
   ]
  },
  {
   "cell_type": "code",
   "execution_count": null,
   "metadata": {},
   "outputs": [],
   "source": []
  }
 ],
 "metadata": {
  "kernelspec": {
   "display_name": "Python 3",
   "language": "python",
   "name": "python3"
  },
  "language_info": {
   "codemirror_mode": {
    "name": "ipython",
    "version": 3
   },
   "file_extension": ".py",
   "mimetype": "text/x-python",
   "name": "python",
   "nbconvert_exporter": "python",
   "pygments_lexer": "ipython3",
   "version": "3.6.8"
  }
 },
 "nbformat": 4,
 "nbformat_minor": 2
}
